{
 "cells": [
  {
   "cell_type": "code",
   "execution_count": 1,
   "metadata": {},
   "outputs": [],
   "source": [
    "from typing import Any, Dict, List\n",
    "\n",
    "from routrie import Router as RoutrieRouter\n",
    "from http_router import Router as HTTPRouter\n",
    "from starlette.routing import Route, Router as StarletteRouter"
   ]
  },
  {
   "cell_type": "code",
   "execution_count": 2,
   "metadata": {},
   "outputs": [],
   "source": [
    "routes: Dict[str, Any] = {}\n",
    "\n",
    "async def endpoint(*args: Any) -> Any:\n",
    "    ...\n",
    "\n",
    "# From https://github.com/klen/py-frameworks-bench\n",
    "for n in range(5):\n",
    "    routes[f\"/route-{n}\"] = endpoint\n",
    "    routes[f\"/route-dyn-{n}/{{part}}\"] = endpoint"
   ]
  },
  {
   "cell_type": "code",
   "execution_count": 3,
   "metadata": {},
   "outputs": [],
   "source": [
    "paths_to_match: List[str] = []\n",
    "for n in range(1_000):\n",
    "    paths_to_match.append(\"/route-0\")\n",
    "    paths_to_match.append(\"/route-1\")\n",
    "    paths_to_match.append(\"/route-2\")\n",
    "    paths_to_match.append(\"/route-3\")\n",
    "    paths_to_match.append(\"/route-4\")\n",
    "    paths_to_match.append(f\"/route-dyn-0/foo-{n}\")\n",
    "    paths_to_match.append(f\"/route-dyn-1/foo-{n}\")\n",
    "    paths_to_match.append(f\"/route-dyn-2/foo-{n}\")\n",
    "    paths_to_match.append(f\"/route-dyn-3/foo-{n}\")\n",
    "    paths_to_match.append(f\"/route-dyn-4/foo-{n}\")"
   ]
  },
  {
   "cell_type": "code",
   "execution_count": 4,
   "metadata": {},
   "outputs": [],
   "source": [
    "routrie_router = RoutrieRouter({path.replace(\"{part}\", \":part\"): val for path, val in routes.items()})"
   ]
  },
  {
   "cell_type": "code",
   "execution_count": 5,
   "metadata": {},
   "outputs": [
    {
     "name": "stdout",
     "output_type": "stream",
     "text": [
      "3.23 ms ± 10.3 µs per loop (mean ± std. dev. of 7 runs, 100 loops each)\n"
     ]
    }
   ],
   "source": [
    "%%timeit\n",
    "for path in paths_to_match:\n",
    "    routrie_router.find(path)"
   ]
  },
  {
   "cell_type": "code",
   "execution_count": 6,
   "metadata": {},
   "outputs": [],
   "source": [
    "http_router = HTTPRouter()\n",
    "for path, value in routes.items():\n",
    "    http_router.route(path)(value)"
   ]
  },
  {
   "cell_type": "code",
   "execution_count": 7,
   "metadata": {},
   "outputs": [
    {
     "name": "stdout",
     "output_type": "stream",
     "text": [
      "8.19 ms ± 46.1 µs per loop (mean ± std. dev. of 7 runs, 100 loops each)\n"
     ]
    }
   ],
   "source": [
    "%%timeit\n",
    "for path in paths_to_match:\n",
    "    http_router(path)"
   ]
  },
  {
   "cell_type": "code",
   "execution_count": 8,
   "metadata": {},
   "outputs": [],
   "source": [
    "starlette_router = StarletteRouter(\n",
    "    routes=[\n",
    "        Route(path, endpoint)\n",
    "        for path, endpoint in routes.items()\n",
    "    ]\n",
    ")\n",
    "\n",
    "scopes_to_match = [\n",
    "    {\n",
    "        \"type\": \"http\",\n",
    "        \"method\": \"GET\",\n",
    "        \"path\": path\n",
    "    }\n",
    "    for path in paths_to_match\n",
    "]"
   ]
  },
  {
   "cell_type": "code",
   "execution_count": 9,
   "metadata": {},
   "outputs": [
    {
     "name": "stdout",
     "output_type": "stream",
     "text": [
      "27 ms ± 332 µs per loop (mean ± std. dev. of 7 runs, 10 loops each)\n"
     ]
    }
   ],
   "source": [
    "%%timeit\n",
    "# simulate what Starlette does internally\n",
    "for scope in scopes_to_match:\n",
    "    for route in starlette_router.routes:\n",
    "        match, _ = route.matches(scope)\n",
    "        if match == match.FULL:\n",
    "            break"
   ]
  }
 ],
 "metadata": {
  "kernelspec": {
   "display_name": "Python 3.10.3 ('.venv': venv)",
   "language": "python",
   "name": "python3"
  },
  "language_info": {
   "codemirror_mode": {
    "name": "ipython",
    "version": 3
   },
   "file_extension": ".py",
   "mimetype": "text/x-python",
   "name": "python",
   "nbconvert_exporter": "python",
   "pygments_lexer": "ipython3",
   "version": "3.10.3"
  },
  "orig_nbformat": 4,
  "vscode": {
   "interpreter": {
    "hash": "d92ecb0bd55e1fa7be24a76e68e435da4939331ac004d74954b9f85a61214695"
   }
  }
 },
 "nbformat": 4,
 "nbformat_minor": 2
}
