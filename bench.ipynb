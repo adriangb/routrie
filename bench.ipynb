{
 "cells": [
  {
   "cell_type": "code",
   "execution_count": 10,
   "metadata": {},
   "outputs": [],
   "source": [
    "from routrie import Router as RoutrieRouter\n",
    "from http_router import Router as HTTPRouter\n",
    "from starlette.routing import Route, Router as StarletteRouter\n",
    "from starlette.requests import Request"
   ]
  },
  {
   "cell_type": "code",
   "execution_count": 11,
   "metadata": {},
   "outputs": [],
   "source": [
    "routrie_router: RoutrieRouter[int] = RoutrieRouter()\n",
    "routrie_router.insert(\"/path\", 1)\n",
    "routrie_router.insert(\"/path/users\", 2)"
   ]
  },
  {
   "cell_type": "code",
   "execution_count": 12,
   "metadata": {},
   "outputs": [
    {
     "name": "stdout",
     "output_type": "stream",
     "text": [
      "2.4 ms ± 38.3 µs per loop (mean ± std. dev. of 7 runs, 100 loops each)\n"
     ]
    }
   ],
   "source": [
    "%%timeit\n",
    "for _ in range(10_000):\n",
    "    routrie_router.find(\"/path\")"
   ]
  },
  {
   "cell_type": "code",
   "execution_count": 13,
   "metadata": {},
   "outputs": [
    {
     "data": {
      "text/plain": [
       "2"
      ]
     },
     "execution_count": 13,
     "metadata": {},
     "output_type": "execute_result"
    }
   ],
   "source": [
    "http_router = HTTPRouter()\n",
    "http_router.route('/path')(1)\n",
    "http_router.route('/path/users')(2)"
   ]
  },
  {
   "cell_type": "code",
   "execution_count": 14,
   "metadata": {},
   "outputs": [
    {
     "name": "stdout",
     "output_type": "stream",
     "text": [
      "4.87 ms ± 52.8 µs per loop (mean ± std. dev. of 7 runs, 100 loops each)\n"
     ]
    }
   ],
   "source": [
    "%%timeit\n",
    "for _ in range(10_000):\n",
    "    http_router.find(\"/path\")"
   ]
  },
  {
   "cell_type": "code",
   "execution_count": 15,
   "metadata": {},
   "outputs": [],
   "source": [
    "async def endpoint1(request: Request):\n",
    "    assert request.url.path == \"/path\"\n",
    "\n",
    "async def endpoint2(request: Request):\n",
    "    assert request.url.path == \"/path/users\"\n",
    "\n",
    "starlette_router = StarletteRouter(\n",
    "    routes=[\n",
    "        Route(\"/path\", endpoint=endpoint1),\n",
    "        Route(\"/path/users\", endpoint=endpoint2),\n",
    "    ]\n",
    ")\n",
    "\n",
    "scope1 = {\n",
    "    \"type\": \"http\",\n",
    "    \"method\": \"GET\",\n",
    "    \"path\": \"/path\"\n",
    "}\n",
    "\n",
    "scope2 = {\n",
    "    \"type\": \"http\",\n",
    "    \"method\": \"GET\",\n",
    "    \"path\": \"/path/users\"\n",
    "}"
   ]
  },
  {
   "cell_type": "code",
   "execution_count": 16,
   "metadata": {},
   "outputs": [
    {
     "name": "stdout",
     "output_type": "stream",
     "text": [
      "21 ms ± 100 µs per loop (mean ± std. dev. of 7 runs, 10 loops each)\n"
     ]
    }
   ],
   "source": [
    "%%timeit\n",
    "# simulate what Starlette does internally\n",
    "for _ in range(10_000):\n",
    "    for route in starlette_router.routes:\n",
    "        match, _ = route.matches(scope1)\n",
    "        if match == match.FULL:\n",
    "            break\n",
    "    for route in starlette_router.routes:\n",
    "        match, _ = route.matches(scope2)\n",
    "        if match == match.FULL:\n",
    "            break"
   ]
  }
 ],
 "metadata": {
  "kernelspec": {
   "display_name": "Python 3.10.3 ('.venv': venv)",
   "language": "python",
   "name": "python3"
  },
  "language_info": {
   "codemirror_mode": {
    "name": "ipython",
    "version": 3
   },
   "file_extension": ".py",
   "mimetype": "text/x-python",
   "name": "python",
   "nbconvert_exporter": "python",
   "pygments_lexer": "ipython3",
   "version": "3.10.3"
  },
  "orig_nbformat": 4,
  "vscode": {
   "interpreter": {
    "hash": "d92ecb0bd55e1fa7be24a76e68e435da4939331ac004d74954b9f85a61214695"
   }
  }
 },
 "nbformat": 4,
 "nbformat_minor": 2
}
