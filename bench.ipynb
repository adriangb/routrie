{
 "cells": [
  {
   "cell_type": "code",
   "execution_count": 1,
   "metadata": {},
   "outputs": [],
   "source": [
    "from routrie import Router as RoutrieRouter\n",
    "from http_router import Router as HTTPRouter\n",
    "from starlette.routing import Route, Router as StarletteRouter\n",
    "from starlette.requests import Request"
   ]
  },
  {
   "cell_type": "code",
   "execution_count": null,
   "metadata": {},
   "outputs": [],
   "source": [
    "routrie_router: RoutrieRouter[int] = RoutrieRouter()\n",
    "routrie_router.insert(\"/path\", 1)\n",
    "routrie_router.insert(\"/path/users\", 2)"
   ]
  },
  {
   "cell_type": "code",
   "execution_count": null,
   "metadata": {},
   "outputs": [],
   "source": [
    "%%timeit\n",
    "for _ in range(10_000):\n",
    "    routrie_router.find(\"/path\")"
   ]
  }
 ],
 "metadata": {
  "kernelspec": {
   "display_name": "Python 3.10.3 ('.venv': venv)",
   "language": "python",
   "name": "python3"
  },
  "language_info": {
   "codemirror_mode": {
    "name": "ipython",
    "version": 3
   },
   "file_extension": ".py",
   "mimetype": "text/x-python",
   "name": "python",
   "nbconvert_exporter": "python",
   "pygments_lexer": "ipython3",
   "version": "3.10.3"
  },
  "orig_nbformat": 4,
  "vscode": {
   "interpreter": {
    "hash": "d92ecb0bd55e1fa7be24a76e68e435da4939331ac004d74954b9f85a61214695"
   }
  }
 },
 "nbformat": 4,
 "nbformat_minor": 2
}
