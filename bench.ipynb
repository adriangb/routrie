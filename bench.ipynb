{
 "cells": [
  {
   "cell_type": "code",
   "execution_count": 1,
   "metadata": {},
   "outputs": [],
   "source": [
    "from typing import Any, Dict, List\n",
    "\n",
    "from routrie import Router as RoutrieRouter\n",
    "from http_router import Router as HTTPRouter\n",
    "from starlette.routing import Route, Router as StarletteRouter"
   ]
  },
  {
   "cell_type": "code",
   "execution_count": 2,
   "metadata": {},
   "outputs": [],
   "source": [
    "routes: Dict[str, Any] = {}\n",
    "\n",
    "async def endpoint(*args: Any) -> Any:\n",
    "    ...\n",
    "\n",
    "# From https://github.com/klen/py-frameworks-bench\n",
    "for n in range(5):\n",
    "    routes[f\"/route-{n}\"] = endpoint\n",
    "    routes[f\"/route-dyn-{n}/{{part}}\"] = endpoint"
   ]
  },
  {
   "cell_type": "code",
   "execution_count": 3,
   "metadata": {},
   "outputs": [],
   "source": [
    "paths_to_match: List[str] = []\n",
    "for n in range(1_000):\n",
    "    paths_to_match.append(\"/route-0\")\n",
    "    paths_to_match.append(\"/route-1\")\n",
    "    paths_to_match.append(\"/route-2\")\n",
    "    paths_to_match.append(\"/route-3\")\n",
    "    paths_to_match.append(\"/route-4\")\n",
    "    paths_to_match.append(f\"/route-dyn-0/foo-{n}\")\n",
    "    paths_to_match.append(f\"/route-dyn-1/foo-{n}\")\n",
    "    paths_to_match.append(f\"/route-dyn-2/foo-{n}\")\n",
    "    paths_to_match.append(f\"/route-dyn-3/foo-{n}\")\n",
    "    paths_to_match.append(f\"/route-dyn-4/foo-{n}\")"
   ]
  },
  {
   "cell_type": "code",
   "execution_count": 4,
   "metadata": {},
   "outputs": [],
   "source": [
    "routrie_router = RoutrieRouter({path.replace(\"{part}\", \":part\"): val for path, val in routes.items()})"
   ]
  },
  {
   "cell_type": "code",
   "execution_count": 5,
   "metadata": {},
   "outputs": [
    {
     "name": "stdout",
     "output_type": "stream",
     "text": [
      "5.94 ms ± 1.12 ms per loop (mean ± std. dev. of 7 runs, 100 loops each)\n"
     ]
    }
   ],
   "source": [
    "%%timeit\n",
    "for path in paths_to_match:\n",
    "    routrie_router.find(path)"
   ]
  },
  {
   "cell_type": "code",
   "execution_count": 6,
   "metadata": {},
   "outputs": [],
   "source": [
    "http_router = HTTPRouter()\n",
    "for path, value in routes.items():\n",
    "    http_router.route(path)(value)"
   ]
  },
  {
   "cell_type": "code",
   "execution_count": 7,
   "metadata": {},
   "outputs": [
    {
     "name": "stdout",
     "output_type": "stream",
     "text": [
      "11.2 ms ± 269 µs per loop (mean ± std. dev. of 7 runs, 100 loops each)\n"
     ]
    }
   ],
   "source": [
    "%%timeit\n",
    "for path in paths_to_match:\n",
    "    http_router(path)"
   ]
  },
  {
   "cell_type": "code",
   "execution_count": 8,
   "metadata": {},
   "outputs": [],
   "source": [
    "starlette_router = StarletteRouter(\n",
    "    routes=[\n",
    "        Route(path, endpoint)\n",
    "        for path, endpoint in routes.items()\n",
    "    ]\n",
    ")\n",
    "\n",
    "scopes_to_match = [\n",
    "    {\n",
    "        \"type\": \"http\",\n",
    "        \"method\": \"GET\",\n",
    "        \"path\": path\n",
    "    }\n",
    "    for path in paths_to_match\n",
    "]"
   ]
  },
  {
   "cell_type": "code",
   "execution_count": 9,
   "metadata": {},
   "outputs": [
    {
     "name": "stdout",
     "output_type": "stream",
     "text": [
      "39.5 ms ± 676 µs per loop (mean ± std. dev. of 7 runs, 10 loops each)\n"
     ]
    }
   ],
   "source": [
    "%%timeit\n",
    "# simulate what Starlette does internally\n",
    "for scope in scopes_to_match:\n",
    "    for route in starlette_router.routes:\n",
    "        match, _ = route.matches(scope)\n",
    "        if match == match.FULL:\n",
    "            break"
   ]
  },
  {
   "cell_type": "markdown",
   "metadata": {},
   "source": [
    "Benchmark concurrency, we want to know if we're blocking the GIL or not"
   ]
  },
  {
   "cell_type": "code",
   "execution_count": 11,
   "metadata": {},
   "outputs": [
    {
     "name": "stdout",
     "output_type": "stream",
     "text": [
      "Threads: 0.0012900829315185547\n",
      "Sequential: 8.320808410644531e-05\n"
     ]
    }
   ],
   "source": [
    "from concurrent.futures import ThreadPoolExecutor, wait\n",
    "from time import time\n",
    "\n",
    "# make a really large routing tree so that we spend a good chunk of time in Rust\n",
    "total_routes = 100_000\n",
    "routes = {\n",
    "    f\"/:part1_{n}\" + f\"/foo/bar/baz\" * 1_000 + f\"/:part2_{n}\": n\n",
    "    for n in range(total_routes)\n",
    "}\n",
    "router = RoutrieRouter(routes)\n",
    "\n",
    "path = f\"/part1_{total_routes-1}\" + f\"/foo/bar/baz\" * 1_000 + f\"/part2_{total_routes-1}\"\n",
    "\n",
    "def match() -> float:\n",
    "    start = time()\n",
    "    router.find(path)\n",
    "    return start\n",
    "\n",
    "start = time()\n",
    "match()\n",
    "match()\n",
    "end = time()\n",
    "elapsed_sequential = end - start\n",
    "\n",
    "with ThreadPoolExecutor(max_workers=2) as exec:\n",
    "    futures = (\n",
    "        exec.submit(match),\n",
    "        exec.submit(match),\n",
    "    )\n",
    "    wait(futures)\n",
    "    end = time()\n",
    "    start = min(f.result() for f in futures)\n",
    "elapsed_threads = end - start\n",
    "\n",
    "print(f\"Threads: {elapsed_threads}\")\n",
    "print(f\"Sequential: {elapsed_sequential}\")"
   ]
  }
 ],
 "metadata": {
  "kernelspec": {
   "display_name": "Python 3.10.2 ('.venv': venv)",
   "language": "python",
   "name": "python3"
  },
  "language_info": {
   "codemirror_mode": {
    "name": "ipython",
    "version": 3
   },
   "file_extension": ".py",
   "mimetype": "text/x-python",
   "name": "python",
   "nbconvert_exporter": "python",
   "pygments_lexer": "ipython3",
   "version": "3.10.2"
  },
  "orig_nbformat": 4,
  "vscode": {
   "interpreter": {
    "hash": "cc05d9cd725543b45b67849dc4a09adf5e1bc0c8630601a87c4df1a54f6eacd6"
   }
  }
 },
 "nbformat": 4,
 "nbformat_minor": 2
}
